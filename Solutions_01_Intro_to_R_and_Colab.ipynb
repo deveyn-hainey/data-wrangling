{
  "nbformat": 4,
  "nbformat_minor": 0,
  "metadata": {
    "colab": {
      "provenance": [],
      "include_colab_link": true
    },
    "kernelspec": {
      "name": "ir",
      "display_name": "R"
    },
    "language_info": {
      "name": "R"
    }
  },
  "cells": [
    {
      "cell_type": "markdown",
      "metadata": {
        "id": "view-in-github",
        "colab_type": "text"
      },
      "source": [
        "<a href=\"https://colab.research.google.com/github/deveyn-hainey/data-wrangling/blob/main/Solutions_01_Intro_to_R_and_Colab.ipynb\" target=\"_parent\"><img src=\"https://colab.research.google.com/assets/colab-badge.svg\" alt=\"Open In Colab\"/></a>"
      ]
    },
    {
      "cell_type": "markdown",
      "source": [
        "[![Open In Colab](https://colab.research.google.com/assets/colab-badge.svg)](https://githubtocolab.com/CU-Denver-MathStats-OER/Data-Wrangling-and-Visualization/blob/main/01-Intro-to-R-and-Colab.ipynb)\n",
        "\n"
      ],
      "metadata": {
        "id": "WaUpDHKEpNrt"
      }
    },
    {
      "cell_type": "markdown",
      "source": [
        "# <a name=\"01-title\"><font size=\"6\">Introduction to R and Google Colaboratory</font></a>\n",
        "\n",
        "---"
      ],
      "metadata": {
        "id": "o17v0QRZomgK"
      }
    },
    {
      "cell_type": "markdown",
      "source": [
        "# <a name=\"01-intro\">Programming with R</a>\n",
        "\n",
        "---\n",
        "\n",
        "[R](https://www.r-project.org/about.html) is a programming language used largely for statistical computing, data wrangling and visualization.\n",
        "\n",
        "- It is modeled after the _S_ programming language.\n",
        "- It was introduced by Robert Gentleman and Robert Ihaka in 1993.\n",
        "\n",
        "\n",
        "The first stable version of R was released in 2000, and after all of this time, there is a large community of R users that have created many useful scripts, packages, and data sets that openly shared and updated.\n",
        "\n",
        "- <font color=\"dodgerblue\">**R is free and open source software**</font>.\n",
        "- R runs on Windows, Mac, Linux, and other types of computers.\n",
        "- R runs on cloud-based software such as [Google Colab](https://colab.research.google.com/) and [Posit Cloud](https://posit.cloud/).\n",
        "- R is an <font color=\"dodgerblue\">**interactive programming language**</font>.\n",
        "  - You type and execute a command in the Console for immediate feedback.\n",
        "  - In contrast, a compiled programming language compiles a program that is then executed.\n",
        "- R is highly extendable.\n",
        "  - Many user-created packages are available to extend the functionality beyond what is installed by default.\n",
        "  - Users can write their own functions and easily add software libraries to R.\n",
        "\n",
        "\n"
      ],
      "metadata": {
        "id": "NuTDX7yD_qfH"
      }
    },
    {
      "cell_type": "markdown",
      "source": [
        "# <a name=\"01-colab\">What is Google Colaboratory (Colab)?</a>\n",
        "\n",
        "---\n",
        "\n",
        "\n",
        "We will use the open source Google Colaboratory (or Colab) to interact, edit, and save interactive Jupyter notebooks where we'll play around with R to help us explore methods for wrangling and visualizing data. <font color=\"dodgerblue\">**You do not need to purchase or install any software for this course!**</font>\n",
        "\n",
        "\n",
        "- Jupyter, [https://jupyter.org/](https://jupyter.org/), is a free software used for coding and interactive computing.\n",
        "  - Jupyter notebooks are a dynamic environment to synthesize narrative text, executable R (and Python) code, visualizations, videos, and more.\n",
        "- Google Colaboratory (or Colab, [https://colab.research.google.com](https://colab.research.google.com)), is a free, cloud-based application used at universities, research labs, and companies around the world.\n",
        "  - You can open a Colab notebook in any web browser.\n",
        "  - A device with a connection and a web browser is the only requirement.\n",
        "- Below are several links to Google resources for getting started with Colab.\n",
        "  - Watch Google's [Introduction to Colab video](https://www.youtube.com/watch?v=inN8seMm7UI) to learn more.\n",
        "  - Open [Google's Welcome to Colab notebook](https://colab.research.google.com/?utm_source=scs-index).\n",
        "  - Open a [tutorial video on how to edit and run code cells in Colab](https://youtu.be/kbIy_8rVZYo)."
      ],
      "metadata": {
        "id": "dMnfpSOHfQVV"
      }
    },
    {
      "cell_type": "markdown",
      "source": [
        "## <a name=\"01-navigate\">Navigating a Colab Notebook</a>\n",
        "\n",
        "---\n",
        "\n",
        "\n",
        "This is an interactive document that contains two types of cells. Blah blah\n",
        "\n",
        "- <font color=\"dodgerblue\">**Text cells**</font> are used for typing Markdown text (similar to Word).\n",
        "  - For example, this is a text cell!\n",
        "  - Double-click on an existing text cell to edit the text.\n",
        "- <font color=\"dodgerblue\">**Code cells**</font> are used to insert, edit, run, and view/store output of Python code.\n",
        "  - Click on a code cell to edit the code.\n",
        "  - Click the play button in the upper left corner of a code cell to run it.\n",
        "  - Or use the keyboard shortcut `Shift + Return/Enter` to run a code cell.\n",
        "- Run the code cell below to compute `731 * 123`.\n",
        "\n",
        "\n",
        "- Bullet 1\n"
      ],
      "metadata": {
        "id": "69mQEwUkLh14"
      }
    },
    {
      "cell_type": "code",
      "source": [
        "(731 * 123) + 2  # run to compute the product"
      ],
      "metadata": {
        "id": "Df9aO3T3_eqq",
        "colab": {
          "base_uri": "https://localhost:8080/",
          "height": 34
        },
        "outputId": "c71d2367-3f0d-49a4-d9b3-aadc039f60bf"
      },
      "execution_count": null,
      "outputs": [
        {
          "output_type": "display_data",
          "data": {
            "text/html": [
              "89915"
            ],
            "text/markdown": "89915",
            "text/latex": "89915",
            "text/plain": [
              "[1] 89915"
            ]
          },
          "metadata": {}
        }
      ]
    },
    {
      "cell_type": "code",
      "source": [
        "1 + 3"
      ],
      "metadata": {
        "colab": {
          "base_uri": "https://localhost:8080/",
          "height": 34
        },
        "id": "fp_fpdhgxmeP",
        "outputId": "93a243ca-e253-4bd5-a018-019d3a841c14"
      },
      "execution_count": null,
      "outputs": [
        {
          "output_type": "display_data",
          "data": {
            "text/html": [
              "4"
            ],
            "text/markdown": "4",
            "text/latex": "4",
            "text/plain": [
              "[1] 4"
            ]
          },
          "metadata": {}
        }
      ]
    },
    {
      "cell_type": "markdown",
      "source": [
        "Above we added 1 and 3"
      ],
      "metadata": {
        "id": "9WEAWgHUxpCS"
      }
    },
    {
      "cell_type": "markdown",
      "source": [
        "<font color=\"dodgerblue\">To add a new text or code cell to a Colab notebook</font>, hover the pointer over the upper or lower border of an existing cell and:\n",
        "\n",
        "- Click the `+ Code` button to add a new code cell.\n",
        "- Click the `+ Text` button to add a new text cell.\n",
        "- We can also delete, reorder, and add comments to cells using the buttons in the upper right corner of an active cell.\n",
        "\n",
        "A <font color=\"dodgerblue\">Table of Contents</font> can be opened (and closed) along the left side of this window for quickly linking to other parts of this document.\n",
        "\n",
        "- Expand and collapse sections to improve navigating around longer documents.\n",
        "\n"
      ],
      "metadata": {
        "id": "0Tb1XTDB_dZi"
      }
    },
    {
      "cell_type": "markdown",
      "source": [
        "## <a name=\"01-save\">Saving Your Work to a Colab Notebook</a>\n",
        "\n",
        "---\n",
        "\n",
        "This notebook is a shared Colab notebook available for anyone to view. However, since everyone is sharing this notebook, you do not have permission to save changes to this shared Colab notebook. In order to save your work:\n",
        "\n",
        "1. You will need to set up a free Google Drive account. If you already have a Google Drive account, you are ready to go!\n",
        "2. Click the `Copy to Drive` button to the right of the `+ Code` and `+ Text` buttons on top of the notebook.\n",
        "3. Select from the menu `File/Save a Copy in Drive`.\n",
        "  - By default, the notebook will be saved in a folder named **Colab Notebooks** in your Drive.\n",
        "  - Feel free to rename and store the notebook wherever you like.\n"
      ],
      "metadata": {
        "id": "XQYAZYMYHani"
      }
    },
    {
      "cell_type": "markdown",
      "source": [
        "# <a name=\"workflow-basics\">Workflow Basics of Programming  in R</a>\n",
        "\n",
        "---\n",
        "\n",
        "Reading: See [Section 2](https://r4ds.hadley.nz/workflow-basics) of R for Data Science for more details."
      ],
      "metadata": {
        "id": "J0ugGK93te8E"
      }
    },
    {
      "cell_type": "markdown",
      "source": [
        "## <a name=\"01-run\">Running R Code Cells</a>\n",
        "\n",
        "---\n",
        "\n",
        "\n",
        "We can use R to do basic math calculations and display the result to the screen. To run the code, either:\n",
        "\n",
        "- Click the play button in the upper left corner of the code cell.\n",
        "- Or use the keyboard shortcut `Shift + Return/Enter`.\n",
        "\n",
        "If the code compiles without an error, a green check appears. If the code crashes, a red exclamation point appears along with an error message.\n"
      ],
      "metadata": {
        "id": "nLe16t6wLa0N"
      }
    },
    {
      "cell_type": "code",
      "source": [
        "sqrt(3 + 4)  # using R as a calculator"
      ],
      "metadata": {
        "id": "A56OIQVaLUeJ",
        "colab": {
          "base_uri": "https://localhost:8080/",
          "height": 34
        },
        "outputId": "182fd530-afd9-4fd0-ab15-c43d47ebb560"
      },
      "execution_count": null,
      "outputs": [
        {
          "output_type": "display_data",
          "data": {
            "text/html": [
              "2.64575131106459"
            ],
            "text/markdown": "2.64575131106459",
            "text/latex": "2.64575131106459",
            "text/plain": [
              "[1] 2.645751"
            ]
          },
          "metadata": {}
        }
      ]
    },
    {
      "cell_type": "code",
      "source": [
        "sqrt(3 - z)"
      ],
      "metadata": {
        "id": "n7lxRMZwunZd",
        "colab": {
          "base_uri": "https://localhost:8080/",
          "height": 73
        },
        "outputId": "deb6eb23-2043-44cd-caeb-44ccbcec08b7"
      },
      "execution_count": null,
      "outputs": [
        {
          "output_type": "error",
          "ename": "ERROR",
          "evalue": "Error: object 'z' not found\n",
          "traceback": [
            "Error: object 'z' not found\nTraceback:\n"
          ]
        }
      ]
    },
    {
      "cell_type": "markdown",
      "source": [
        "# <a name=\"assign\">Storing Output: Assignment of Objects</a>\n",
        "\n",
        "---\n",
        "\n",
        "You can create new <font color=\"dodgerblue\">**objects**</font> with the assignment operator `<-`.\n",
        "\n",
        "- <font color=\"tomato\">Caution: In R we use `<-` for the assignment operator, not the `=` character which used to set options inside functions.</font>"
      ],
      "metadata": {
        "id": "AUVXtGFXvOyW"
      }
    },
    {
      "cell_type": "code",
      "source": [
        "# create vector of integers from 1 to 9 with increments of 2\n",
        "x <- seq(1, 9, 2)"
      ],
      "metadata": {
        "id": "aSJHcP7vK5jd"
      },
      "execution_count": null,
      "outputs": []
    },
    {
      "cell_type": "markdown",
      "source": [
        "## <a name=\"printing\">Printing Output to Screen</a>\n",
        "\n",
        "---\n",
        "\n",
        "Although we do not see any output after running the previous code cell, the green check mark to the left of the play button indicates the code has successfully run.\n",
        "\n",
        "- We have stored the sequence of integers to vector `x`.\n",
        "- If we would like to see the value that is being stored in a `x`,  we need to instruct Python to **print the output to the screen**.\n",
        "- We can simply type the variable name `x` in a code cell to see the contents stored in `x`.\n",
        "\n"
      ],
      "metadata": {
        "id": "bWrxY2xrh25Y"
      }
    },
    {
      "cell_type": "markdown",
      "source": [
        "Note that the value of `x` is not printed, it's just stored. If you want to view the value, type `x` in the console."
      ],
      "metadata": {
        "id": "ANlC6H3Iwyk-"
      }
    },
    {
      "cell_type": "code",
      "source": [
        "x  # printing the output stored in x"
      ],
      "metadata": {
        "id": "VpbUU1Kgw9ed",
        "colab": {
          "base_uri": "https://localhost:8080/",
          "height": 34
        },
        "outputId": "16b0235f-1992-402a-b141-5b50793e252d"
      },
      "execution_count": null,
      "outputs": [
        {
          "output_type": "display_data",
          "data": {
            "text/html": [
              "<style>\n",
              ".list-inline {list-style: none; margin:0; padding: 0}\n",
              ".list-inline>li {display: inline-block}\n",
              ".list-inline>li:not(:last-child)::after {content: \"\\00b7\"; padding: 0 .5ex}\n",
              "</style>\n",
              "<ol class=list-inline><li>1</li><li>3</li><li>5</li><li>7</li><li>9</li></ol>\n"
            ],
            "text/markdown": "1. 1\n2. 3\n3. 5\n4. 7\n5. 9\n\n\n",
            "text/latex": "\\begin{enumerate*}\n\\item 1\n\\item 3\n\\item 5\n\\item 7\n\\item 9\n\\end{enumerate*}\n",
            "text/plain": [
              "[1] 1 3 5 7 9"
            ]
          },
          "metadata": {}
        }
      ]
    },
    {
      "cell_type": "code",
      "source": [
        "# performing multiple operations in one code cell\n",
        "x <- seq(1, 9, 2)\n",
        "x"
      ],
      "metadata": {
        "id": "gFDPOerbxFVY",
        "colab": {
          "base_uri": "https://localhost:8080/",
          "height": 34
        },
        "outputId": "5d79c771-1f03-48ea-b0bd-8ed3ba080525"
      },
      "execution_count": null,
      "outputs": [
        {
          "output_type": "display_data",
          "data": {
            "text/html": [
              "<style>\n",
              ".list-inline {list-style: none; margin:0; padding: 0}\n",
              ".list-inline>li {display: inline-block}\n",
              ".list-inline>li:not(:last-child)::after {content: \"\\00b7\"; padding: 0 .5ex}\n",
              "</style>\n",
              "<ol class=list-inline><li>1</li><li>3</li><li>5</li><li>7</li><li>9</li></ol>\n"
            ],
            "text/markdown": "1. 1\n2. 3\n3. 5\n4. 7\n5. 9\n\n\n",
            "text/latex": "\\begin{enumerate*}\n\\item 1\n\\item 3\n\\item 5\n\\item 7\n\\item 9\n\\end{enumerate*}\n",
            "text/plain": [
              "[1] 1 3 5 7 9"
            ]
          },
          "metadata": {}
        }
      ]
    },
    {
      "cell_type": "markdown",
      "source": [
        "### <a name=\"asign-print\">Assigning and Printing with `( )`</a>\n",
        "\n",
        "---\n",
        "\n",
        "If we enclose a command in a pair rounded parentheses `( )`, then output of the command inside the parentheses will executed and printed to the screen."
      ],
      "metadata": {
        "id": "wXX6t2-cxQzS"
      }
    },
    {
      "cell_type": "code",
      "source": [
        "# enclosing command in parentheses assigns and prints to screen\n",
        "(x <- seq(1, 9, 2))"
      ],
      "metadata": {
        "id": "how01F4BxwJg"
      },
      "execution_count": null,
      "outputs": []
    },
    {
      "cell_type": "markdown",
      "source": [
        "There are multiple ways we can create the vector `x` and print the contents of vector `x` to the screen. When coding, there are often many different ways we can write code to perform the same tasks.\n",
        "\n",
        "- Sometimes we will opt to write code most efficiently.\n",
        "- Other times we will choose to write code that is easier to understand.\n",
        "- At times we will show multiple ways of performing the same task."
      ],
      "metadata": {
        "id": "wy6kf5XyyB3T"
      }
    },
    {
      "cell_type": "code",
      "source": [
        "(mean_x <- mean(x))  # applying the mean() function to vector x"
      ],
      "metadata": {
        "id": "IR4zlnDDLPUO",
        "colab": {
          "base_uri": "https://localhost:8080/",
          "height": 34
        },
        "outputId": "6dc54116-184e-4444-cdf4-898e8842816b"
      },
      "execution_count": null,
      "outputs": [
        {
          "output_type": "display_data",
          "data": {
            "text/html": [
              "5"
            ],
            "text/markdown": "5",
            "text/latex": "5",
            "text/plain": [
              "[1] 5"
            ]
          },
          "metadata": {}
        }
      ]
    },
    {
      "cell_type": "markdown",
      "metadata": {
        "id": "brqQErt6NrrJ"
      },
      "source": [
        "# <a name=\"math-ops\">Mathematical Operations in R</a>\n",
        "\n",
        "---\n",
        "\n",
        "- Use `+`, `-`, `*`, and `/` to add, subtract, multiply, and divide, respectively.\n",
        "- Use a carat `^` or double asterisk `**` for the operation to raise to a power.\n",
        "- Parentheses are useful when applying multiple operations.\n",
        "- Spaces are cosmetic, but can help make the code easier. For example, `3 + 5`, `3+5`, `3+  5` are identical commands.\n"
      ]
    },
    {
      "cell_type": "markdown",
      "source": [
        "## <a name=\"01q1\">Question 1</a>\n",
        "\n",
        "---\n",
        "\n",
        "What will be displayed on screen after running the the code below.\n",
        "\n",
        "```\n",
        "y <- (3 * 2)^2\n",
        "```\n",
        "\n",
        "Without running the code, type your answer in the space below.\n",
        "\n"
      ],
      "metadata": {
        "id": "xFWEsvy4kCnD"
      }
    },
    {
      "cell_type": "markdown",
      "source": [
        "### <a name=\"01sol1\">Solution to Question 1</a>\n",
        "\n",
        "---\n",
        "\n",
        "NOTHING!!!\n",
        "\n",
        "<br>  \n",
        "<br>  \n"
      ],
      "metadata": {
        "id": "kZCY6Hz0lMI4"
      }
    },
    {
      "cell_type": "markdown",
      "source": [
        "## <a name=\"01q2\">Question 2</a>\n",
        "\n",
        "---\n",
        "\n",
        "Edit the code cell below so the output stored in `y` is displayed on screen.\n",
        "\n",
        "\n",
        "\n"
      ],
      "metadata": {
        "id": "vwL1ufszlT8V"
      }
    },
    {
      "cell_type": "markdown",
      "source": [
        "### <a name=\"01sol2\">Solution to Question 2</a>\n",
        "\n",
        "---\n",
        "\n",
        "Edit the code cell below.\n",
        "\n",
        "<br>  \n"
      ],
      "metadata": {
        "id": "FH_2NkpuliFL"
      }
    },
    {
      "cell_type": "code",
      "source": [
        "# Edit the code cell to display the result\n",
        "(y <- (3 * 2)^2)"
      ],
      "metadata": {
        "id": "g4L-1RHblnxb",
        "colab": {
          "base_uri": "https://localhost:8080/",
          "height": 34
        },
        "outputId": "fbcd2f08-b962-4aef-bc4c-0e2f87983653"
      },
      "execution_count": null,
      "outputs": [
        {
          "output_type": "display_data",
          "data": {
            "text/html": [
              "36"
            ],
            "text/markdown": "36",
            "text/latex": "36",
            "text/plain": [
              "[1] 36"
            ]
          },
          "metadata": {}
        }
      ]
    },
    {
      "cell_type": "markdown",
      "source": [
        "## <a name=\"comments\">Comments in R</a>\n",
        "\n",
        "---\n",
        "\n",
        "R will ignore any text after `#` for that line. This allows you to write <font color=\"dodgerblue\">**comments**</font>, text that is ignored by R but read by other humans. We'll sometimes include comments in examples explaining what's happening with the code. Comments typically are typed either:\n",
        "\n",
        "- A the start of new line to explain what the following line(s) of code do.\n",
        "- On the same line of as a command.\n",
        "  - After the command, type **two spaces**, then `#`, another space, and then type the comment.\n",
        "\n",
        "\n",
        "Comments help make your code more readable both to yourself and others and can help save people (including yourself) time when interpreting your code. Comments can be used to explain the how or what code is doing, but perhaps most useful is to explain *why*. Use comments to explain your overall plan of attack and record important insights."
      ],
      "metadata": {
        "id": "YZRAMAcVzicM"
      }
    },
    {
      "cell_type": "markdown",
      "source": [
        "## <a name=\"naming\">Naming Objects</a>\n",
        "\n",
        "---\n",
        "\n",
        "Object names:\n",
        "\n",
        "- Must start with a letter, and\n",
        "- Can only contain letters, numbers, `_`, and/or `.`.\n",
        "\n",
        "Object names should be descriptive but brief since each time we refer to the object we do not want to type a lot of characters. When we want to use multiple words to describe an object, we recommend using the `snake_case` method:\n",
        "\n",
        "- Use lowercase letters.\n",
        "- Separate words with the underscore character, `_`.\n",
        "- If needed, abbreviate longer words.\n"
      ],
      "metadata": {
        "id": "kgbzaDRr32aM"
      }
    },
    {
      "cell_type": "markdown",
      "source": [
        "## <a name=\"packages\">What Are Packages in R?</a>\n",
        "---\n",
        "\n",
        "R packages are a collection functions, sample data, and/or other code scripts. R installs a set of default packages during installation. In this case, we are working with R in a cloud using [Google Colaboratory](https://colab.research.google.com/).\n",
        "\n",
        "-   The files, code, and data associated to installed packages are saved in the cloud and not locally on your computer.\n",
        "-   Many R packages have already been installed in Google Colaboratory.\n",
        "\n",
        "**Run the code cell below to get a list of all default R packages\n",
        "available in Google Colaboratory.**"
      ],
      "metadata": {
        "id": "tZZdqlhBi1_Y"
      }
    },
    {
      "cell_type": "code",
      "execution_count": null,
      "metadata": {
        "id": "515a52fd-19cd-46c2-b471-228db763fc8f",
        "colab": {
          "base_uri": "https://localhost:8080/",
          "height": 173
        },
        "outputId": "8c892a4c-0b44-47f4-dc78-f0180ad200fa"
      },
      "outputs": [
        {
          "output_type": "display_data",
          "data": {
            "text/html": [
              "<style>\n",
              ".list-inline {list-style: none; margin:0; padding: 0}\n",
              ".list-inline>li {display: inline-block}\n",
              ".list-inline>li:not(:last-child)::after {content: \"\\00b7\"; padding: 0 .5ex}\n",
              "</style>\n",
              "<ol class=list-inline><li>'IRdisplay'</li><li>'IRkernel'</li><li>'pbdZMQ'</li><li>'repr'</li><li>'askpass'</li><li>'backports'</li><li>'base64enc'</li><li>'bit'</li><li>'bit64'</li><li>'blob'</li><li>'boot'</li><li>'brew'</li><li>'brio'</li><li>'broom'</li><li>'bslib'</li><li>'cachem'</li><li>'callr'</li><li>'cellranger'</li><li>'class'</li><li>'cli'</li><li>'clipr'</li><li>'cluster'</li><li>'codetools'</li><li>'colorspace'</li><li>'commonmark'</li><li>'conflicted'</li><li>'cpp11'</li><li>'crayon'</li><li>'credentials'</li><li>'curl'</li><li>'data.table'</li><li>'DBI'</li><li>'dbplyr'</li><li>'desc'</li><li>'devtools'</li><li>'diffobj'</li><li>'digest'</li><li>'downlit'</li><li>'dplyr'</li><li>'dtplyr'</li><li>'ellipsis'</li><li>'evaluate'</li><li>'fansi'</li><li>'farver'</li><li>'fastmap'</li><li>'fontawesome'</li><li>'forcats'</li><li>'foreign'</li><li>'fs'</li><li>'gargle'</li><li>'generics'</li><li>'gert'</li><li>'ggplot2'</li><li>'gh'</li><li>'gitcreds'</li><li>'glue'</li><li>'googledrive'</li><li>'googlesheets4'</li><li>'gtable'</li><li>'haven'</li><li>'highr'</li><li>'hms'</li><li>'htmltools'</li><li>'htmlwidgets'</li><li>'httpuv'</li><li>'httr'</li><li>'httr2'</li><li>'ids'</li><li>'ini'</li><li>'isoband'</li><li>'jquerylib'</li><li>'jsonlite'</li><li>'KernSmooth'</li><li>'knitr'</li><li>'labeling'</li><li>'later'</li><li>'lattice'</li><li>'lifecycle'</li><li>'lubridate'</li><li>'magrittr'</li><li>'MASS'</li><li>'Matrix'</li><li>'memoise'</li><li>'mgcv'</li><li>'mime'</li><li>'miniUI'</li><li>'modelr'</li><li>'munsell'</li><li>'nlme'</li><li>'nnet'</li><li>'openssl'</li><li>'pillar'</li><li>'pkgbuild'</li><li>'pkgconfig'</li><li>'pkgdown'</li><li>'pkgload'</li><li>'praise'</li><li>'prettyunits'</li><li>'processx'</li><li>'profvis'</li><li>'progress'</li><li>'promises'</li><li>'ps'</li><li>'purrr'</li><li>'R6'</li><li>'ragg'</li><li>'rappdirs'</li><li>'rcmdcheck'</li><li>'RColorBrewer'</li><li>'Rcpp'</li><li>'readr'</li><li>'readxl'</li><li>'rematch'</li><li>'rematch2'</li><li>'remotes'</li><li>'reprex'</li><li>'rlang'</li><li>'rmarkdown'</li><li>'roxygen2'</li><li>'rpart'</li><li>'rprojroot'</li><li>'rstudioapi'</li><li>'rversions'</li><li>'rvest'</li><li>'sass'</li><li>'scales'</li><li>'selectr'</li><li>'sessioninfo'</li><li>'shiny'</li><li>'sourcetools'</li><li>'spatial'</li><li>'stringi'</li><li>'stringr'</li><li>'survival'</li><li>'sys'</li><li>'systemfonts'</li><li>'testthat'</li><li>'textshaping'</li><li>'tibble'</li><li>'tidyr'</li><li>'tidyselect'</li><li>'tidyverse'</li><li>'timechange'</li><li>'tinytex'</li><li>'tzdb'</li><li>'urlchecker'</li><li>'usethis'</li><li>'utf8'</li><li>'uuid'</li><li>'vctrs'</li><li>'viridisLite'</li><li>'vroom'</li><li>'waldo'</li><li>'whisker'</li><li>'withr'</li><li>'xfun'</li><li>'xml2'</li><li>'xopen'</li><li>'xtable'</li><li>'yaml'</li><li>'zip'</li><li>'base'</li><li>'compiler'</li><li>'datasets'</li><li>'graphics'</li><li>'grDevices'</li><li>'grid'</li><li>'methods'</li><li>'parallel'</li><li>'splines'</li><li>'stats'</li><li>'stats4'</li><li>'tcltk'</li><li>'tools'</li><li>'utils'</li></ol>\n"
            ],
            "text/markdown": "1. 'IRdisplay'\n2. 'IRkernel'\n3. 'pbdZMQ'\n4. 'repr'\n5. 'askpass'\n6. 'backports'\n7. 'base64enc'\n8. 'bit'\n9. 'bit64'\n10. 'blob'\n11. 'boot'\n12. 'brew'\n13. 'brio'\n14. 'broom'\n15. 'bslib'\n16. 'cachem'\n17. 'callr'\n18. 'cellranger'\n19. 'class'\n20. 'cli'\n21. 'clipr'\n22. 'cluster'\n23. 'codetools'\n24. 'colorspace'\n25. 'commonmark'\n26. 'conflicted'\n27. 'cpp11'\n28. 'crayon'\n29. 'credentials'\n30. 'curl'\n31. 'data.table'\n32. 'DBI'\n33. 'dbplyr'\n34. 'desc'\n35. 'devtools'\n36. 'diffobj'\n37. 'digest'\n38. 'downlit'\n39. 'dplyr'\n40. 'dtplyr'\n41. 'ellipsis'\n42. 'evaluate'\n43. 'fansi'\n44. 'farver'\n45. 'fastmap'\n46. 'fontawesome'\n47. 'forcats'\n48. 'foreign'\n49. 'fs'\n50. 'gargle'\n51. 'generics'\n52. 'gert'\n53. 'ggplot2'\n54. 'gh'\n55. 'gitcreds'\n56. 'glue'\n57. 'googledrive'\n58. 'googlesheets4'\n59. 'gtable'\n60. 'haven'\n61. 'highr'\n62. 'hms'\n63. 'htmltools'\n64. 'htmlwidgets'\n65. 'httpuv'\n66. 'httr'\n67. 'httr2'\n68. 'ids'\n69. 'ini'\n70. 'isoband'\n71. 'jquerylib'\n72. 'jsonlite'\n73. 'KernSmooth'\n74. 'knitr'\n75. 'labeling'\n76. 'later'\n77. 'lattice'\n78. 'lifecycle'\n79. 'lubridate'\n80. 'magrittr'\n81. 'MASS'\n82. 'Matrix'\n83. 'memoise'\n84. 'mgcv'\n85. 'mime'\n86. 'miniUI'\n87. 'modelr'\n88. 'munsell'\n89. 'nlme'\n90. 'nnet'\n91. 'openssl'\n92. 'pillar'\n93. 'pkgbuild'\n94. 'pkgconfig'\n95. 'pkgdown'\n96. 'pkgload'\n97. 'praise'\n98. 'prettyunits'\n99. 'processx'\n100. 'profvis'\n101. 'progress'\n102. 'promises'\n103. 'ps'\n104. 'purrr'\n105. 'R6'\n106. 'ragg'\n107. 'rappdirs'\n108. 'rcmdcheck'\n109. 'RColorBrewer'\n110. 'Rcpp'\n111. 'readr'\n112. 'readxl'\n113. 'rematch'\n114. 'rematch2'\n115. 'remotes'\n116. 'reprex'\n117. 'rlang'\n118. 'rmarkdown'\n119. 'roxygen2'\n120. 'rpart'\n121. 'rprojroot'\n122. 'rstudioapi'\n123. 'rversions'\n124. 'rvest'\n125. 'sass'\n126. 'scales'\n127. 'selectr'\n128. 'sessioninfo'\n129. 'shiny'\n130. 'sourcetools'\n131. 'spatial'\n132. 'stringi'\n133. 'stringr'\n134. 'survival'\n135. 'sys'\n136. 'systemfonts'\n137. 'testthat'\n138. 'textshaping'\n139. 'tibble'\n140. 'tidyr'\n141. 'tidyselect'\n142. 'tidyverse'\n143. 'timechange'\n144. 'tinytex'\n145. 'tzdb'\n146. 'urlchecker'\n147. 'usethis'\n148. 'utf8'\n149. 'uuid'\n150. 'vctrs'\n151. 'viridisLite'\n152. 'vroom'\n153. 'waldo'\n154. 'whisker'\n155. 'withr'\n156. 'xfun'\n157. 'xml2'\n158. 'xopen'\n159. 'xtable'\n160. 'yaml'\n161. 'zip'\n162. 'base'\n163. 'compiler'\n164. 'datasets'\n165. 'graphics'\n166. 'grDevices'\n167. 'grid'\n168. 'methods'\n169. 'parallel'\n170. 'splines'\n171. 'stats'\n172. 'stats4'\n173. 'tcltk'\n174. 'tools'\n175. 'utils'\n\n\n",
            "text/latex": "\\begin{enumerate*}\n\\item 'IRdisplay'\n\\item 'IRkernel'\n\\item 'pbdZMQ'\n\\item 'repr'\n\\item 'askpass'\n\\item 'backports'\n\\item 'base64enc'\n\\item 'bit'\n\\item 'bit64'\n\\item 'blob'\n\\item 'boot'\n\\item 'brew'\n\\item 'brio'\n\\item 'broom'\n\\item 'bslib'\n\\item 'cachem'\n\\item 'callr'\n\\item 'cellranger'\n\\item 'class'\n\\item 'cli'\n\\item 'clipr'\n\\item 'cluster'\n\\item 'codetools'\n\\item 'colorspace'\n\\item 'commonmark'\n\\item 'conflicted'\n\\item 'cpp11'\n\\item 'crayon'\n\\item 'credentials'\n\\item 'curl'\n\\item 'data.table'\n\\item 'DBI'\n\\item 'dbplyr'\n\\item 'desc'\n\\item 'devtools'\n\\item 'diffobj'\n\\item 'digest'\n\\item 'downlit'\n\\item 'dplyr'\n\\item 'dtplyr'\n\\item 'ellipsis'\n\\item 'evaluate'\n\\item 'fansi'\n\\item 'farver'\n\\item 'fastmap'\n\\item 'fontawesome'\n\\item 'forcats'\n\\item 'foreign'\n\\item 'fs'\n\\item 'gargle'\n\\item 'generics'\n\\item 'gert'\n\\item 'ggplot2'\n\\item 'gh'\n\\item 'gitcreds'\n\\item 'glue'\n\\item 'googledrive'\n\\item 'googlesheets4'\n\\item 'gtable'\n\\item 'haven'\n\\item 'highr'\n\\item 'hms'\n\\item 'htmltools'\n\\item 'htmlwidgets'\n\\item 'httpuv'\n\\item 'httr'\n\\item 'httr2'\n\\item 'ids'\n\\item 'ini'\n\\item 'isoband'\n\\item 'jquerylib'\n\\item 'jsonlite'\n\\item 'KernSmooth'\n\\item 'knitr'\n\\item 'labeling'\n\\item 'later'\n\\item 'lattice'\n\\item 'lifecycle'\n\\item 'lubridate'\n\\item 'magrittr'\n\\item 'MASS'\n\\item 'Matrix'\n\\item 'memoise'\n\\item 'mgcv'\n\\item 'mime'\n\\item 'miniUI'\n\\item 'modelr'\n\\item 'munsell'\n\\item 'nlme'\n\\item 'nnet'\n\\item 'openssl'\n\\item 'pillar'\n\\item 'pkgbuild'\n\\item 'pkgconfig'\n\\item 'pkgdown'\n\\item 'pkgload'\n\\item 'praise'\n\\item 'prettyunits'\n\\item 'processx'\n\\item 'profvis'\n\\item 'progress'\n\\item 'promises'\n\\item 'ps'\n\\item 'purrr'\n\\item 'R6'\n\\item 'ragg'\n\\item 'rappdirs'\n\\item 'rcmdcheck'\n\\item 'RColorBrewer'\n\\item 'Rcpp'\n\\item 'readr'\n\\item 'readxl'\n\\item 'rematch'\n\\item 'rematch2'\n\\item 'remotes'\n\\item 'reprex'\n\\item 'rlang'\n\\item 'rmarkdown'\n\\item 'roxygen2'\n\\item 'rpart'\n\\item 'rprojroot'\n\\item 'rstudioapi'\n\\item 'rversions'\n\\item 'rvest'\n\\item 'sass'\n\\item 'scales'\n\\item 'selectr'\n\\item 'sessioninfo'\n\\item 'shiny'\n\\item 'sourcetools'\n\\item 'spatial'\n\\item 'stringi'\n\\item 'stringr'\n\\item 'survival'\n\\item 'sys'\n\\item 'systemfonts'\n\\item 'testthat'\n\\item 'textshaping'\n\\item 'tibble'\n\\item 'tidyr'\n\\item 'tidyselect'\n\\item 'tidyverse'\n\\item 'timechange'\n\\item 'tinytex'\n\\item 'tzdb'\n\\item 'urlchecker'\n\\item 'usethis'\n\\item 'utf8'\n\\item 'uuid'\n\\item 'vctrs'\n\\item 'viridisLite'\n\\item 'vroom'\n\\item 'waldo'\n\\item 'whisker'\n\\item 'withr'\n\\item 'xfun'\n\\item 'xml2'\n\\item 'xopen'\n\\item 'xtable'\n\\item 'yaml'\n\\item 'zip'\n\\item 'base'\n\\item 'compiler'\n\\item 'datasets'\n\\item 'graphics'\n\\item 'grDevices'\n\\item 'grid'\n\\item 'methods'\n\\item 'parallel'\n\\item 'splines'\n\\item 'stats'\n\\item 'stats4'\n\\item 'tcltk'\n\\item 'tools'\n\\item 'utils'\n\\end{enumerate*}\n",
            "text/plain": [
              "  [1] \"IRdisplay\"     \"IRkernel\"      \"pbdZMQ\"        \"repr\"         \n",
              "  [5] \"askpass\"       \"backports\"     \"base64enc\"     \"bit\"          \n",
              "  [9] \"bit64\"         \"blob\"          \"boot\"          \"brew\"         \n",
              " [13] \"brio\"          \"broom\"         \"bslib\"         \"cachem\"       \n",
              " [17] \"callr\"         \"cellranger\"    \"class\"         \"cli\"          \n",
              " [21] \"clipr\"         \"cluster\"       \"codetools\"     \"colorspace\"   \n",
              " [25] \"commonmark\"    \"conflicted\"    \"cpp11\"         \"crayon\"       \n",
              " [29] \"credentials\"   \"curl\"          \"data.table\"    \"DBI\"          \n",
              " [33] \"dbplyr\"        \"desc\"          \"devtools\"      \"diffobj\"      \n",
              " [37] \"digest\"        \"downlit\"       \"dplyr\"         \"dtplyr\"       \n",
              " [41] \"ellipsis\"      \"evaluate\"      \"fansi\"         \"farver\"       \n",
              " [45] \"fastmap\"       \"fontawesome\"   \"forcats\"       \"foreign\"      \n",
              " [49] \"fs\"            \"gargle\"        \"generics\"      \"gert\"         \n",
              " [53] \"ggplot2\"       \"gh\"            \"gitcreds\"      \"glue\"         \n",
              " [57] \"googledrive\"   \"googlesheets4\" \"gtable\"        \"haven\"        \n",
              " [61] \"highr\"         \"hms\"           \"htmltools\"     \"htmlwidgets\"  \n",
              " [65] \"httpuv\"        \"httr\"          \"httr2\"         \"ids\"          \n",
              " [69] \"ini\"           \"isoband\"       \"jquerylib\"     \"jsonlite\"     \n",
              " [73] \"KernSmooth\"    \"knitr\"         \"labeling\"      \"later\"        \n",
              " [77] \"lattice\"       \"lifecycle\"     \"lubridate\"     \"magrittr\"     \n",
              " [81] \"MASS\"          \"Matrix\"        \"memoise\"       \"mgcv\"         \n",
              " [85] \"mime\"          \"miniUI\"        \"modelr\"        \"munsell\"      \n",
              " [89] \"nlme\"          \"nnet\"          \"openssl\"       \"pillar\"       \n",
              " [93] \"pkgbuild\"      \"pkgconfig\"     \"pkgdown\"       \"pkgload\"      \n",
              " [97] \"praise\"        \"prettyunits\"   \"processx\"      \"profvis\"      \n",
              "[101] \"progress\"      \"promises\"      \"ps\"            \"purrr\"        \n",
              "[105] \"R6\"            \"ragg\"          \"rappdirs\"      \"rcmdcheck\"    \n",
              "[109] \"RColorBrewer\"  \"Rcpp\"          \"readr\"         \"readxl\"       \n",
              "[113] \"rematch\"       \"rematch2\"      \"remotes\"       \"reprex\"       \n",
              "[117] \"rlang\"         \"rmarkdown\"     \"roxygen2\"      \"rpart\"        \n",
              "[121] \"rprojroot\"     \"rstudioapi\"    \"rversions\"     \"rvest\"        \n",
              "[125] \"sass\"          \"scales\"        \"selectr\"       \"sessioninfo\"  \n",
              "[129] \"shiny\"         \"sourcetools\"   \"spatial\"       \"stringi\"      \n",
              "[133] \"stringr\"       \"survival\"      \"sys\"           \"systemfonts\"  \n",
              "[137] \"testthat\"      \"textshaping\"   \"tibble\"        \"tidyr\"        \n",
              "[141] \"tidyselect\"    \"tidyverse\"     \"timechange\"    \"tinytex\"      \n",
              "[145] \"tzdb\"          \"urlchecker\"    \"usethis\"       \"utf8\"         \n",
              "[149] \"uuid\"          \"vctrs\"         \"viridisLite\"   \"vroom\"        \n",
              "[153] \"waldo\"         \"whisker\"       \"withr\"         \"xfun\"         \n",
              "[157] \"xml2\"          \"xopen\"         \"xtable\"        \"yaml\"         \n",
              "[161] \"zip\"           \"base\"          \"compiler\"      \"datasets\"     \n",
              "[165] \"graphics\"      \"grDevices\"     \"grid\"          \"methods\"      \n",
              "[169] \"parallel\"      \"splines\"       \"stats\"         \"stats4\"       \n",
              "[173] \"tcltk\"         \"tools\"         \"utils\"        "
            ]
          },
          "metadata": {}
        }
      ],
      "source": [
        "# See a list of installed default packages\n",
        "allpack <- installed.packages()\n",
        "rownames(allpack)"
      ]
    },
    {
      "cell_type": "markdown",
      "metadata": {
        "id": "3749c418-ee45-491c-86c6-b59179b027d1"
      },
      "source": [
        "## <a name=\"data\">What Data is Available in R?</a>\n",
        "---\n",
        "\n",
        "R has many available data sets that we can easily import, investigate, and apply statistical methods and analysis that we will discover this semester.\n",
        "\n",
        "-   Run the code cell below to get a list of all available data sets in all available packages in R.\n",
        "-   A tab should open on the right displaying a long list of data sets.\n",
        "-   We can close the tab in order to keep a larger working window."
      ]
    },
    {
      "cell_type": "code",
      "execution_count": null,
      "metadata": {
        "id": "5d2ddc93-2b1d-4139-9ac5-aa12d5e3f11b"
      },
      "outputs": [],
      "source": [
        "data(package = .packages(all.available = TRUE))"
      ]
    },
    {
      "cell_type": "markdown",
      "metadata": {
        "id": "20c364ae-4997-4621-a1c6-833cc66dcf82"
      },
      "source": [
        "## <a name=\"load-pack\">Loading Packages with the `library()` Command</a>\n",
        "---\n",
        "\n",
        "Each time we start or restart a new R session and want to access the library of functions and data in the package, we need to load the library of files in the package with the `library()` command.\n",
        "\n",
        "-   The `dplyr` package is already installed in Google Colaboratory\n",
        "-   We still need to use a `library()` command to load the package if we want to access data and functions in the package.\n",
        "-   If we do not run the code cell below, we will not be able to run the rest of the code cells in this document without receiving error messages.\n",
        "-   **Run the code cell below to load the `dplyr` package.**"
      ]
    },
    {
      "cell_type": "code",
      "execution_count": null,
      "metadata": {
        "id": "da6702b3-120e-43b9-bd24-3b73284c87f3",
        "colab": {
          "base_uri": "https://localhost:8080/"
        },
        "outputId": "ce7fc74e-f33d-43fc-bdaf-3e422e95fefc"
      },
      "outputs": [
        {
          "output_type": "stream",
          "name": "stderr",
          "text": [
            "\n",
            "Attaching package: ‘dplyr’\n",
            "\n",
            "\n",
            "The following objects are masked from ‘package:stats’:\n",
            "\n",
            "    filter, lag\n",
            "\n",
            "\n",
            "The following objects are masked from ‘package:base’:\n",
            "\n",
            "    intersect, setdiff, setequal, union\n",
            "\n",
            "\n"
          ]
        }
      ],
      "source": [
        "library(dplyr)"
      ]
    },
    {
      "cell_type": "markdown",
      "metadata": {
        "id": "f2737f83-f8e7-4238-90b6-bee8d83429d1"
      },
      "source": [
        "### <a name=\"reload\">Caution: Reloading Packages When Restarting a Session</a>\n",
        "---\n",
        "\n",
        "If we take a break in our work, it is possible our R session will time out and close. <font color=\"tomato\">**Each time we restart an R session, we will need to rerun `library()` commands in order reload any packages we plan to use**</span>.\n",
        "\n",
        "The same caution applies to any objects, vectors, or data frames we create or edit in an R session. If a session times out, and we want to use an object `x` that we previously created, we will need to run the code cell(s) where object `x` is created again before we can refer back to `x` in the current session.\n",
        "\n"
      ]
    },
    {
      "cell_type": "markdown",
      "source": [
        "## <a name=\"help\">Finding Help Documentation</a>\n",
        "---\n",
        "\n",
        "As with learning any new skill, it is always useful to know where to find help. R has been in use since 2000, and there is a large, active community of users that share lots of helpful advice online. Certainly [Google](https://www.google.com/) or other search engines are a useful way to search and find help with R. Below are two additional websites useful for searching for help with R.\n",
        "\n",
        "-   The developers of R have [useful page where to find help](https://www.r-project.org/help.html).\n",
        "-   [Rseek](https://rseek.org/) is provided by Sasha Goodman at Stanford university. This engine lets you search several R related sites.\n",
        "\n",
        "We can also find help without opening a separate browser window or tab. The `?` help operator and `help()` function provide access to the help manuals for R functions, data sets, and other objects. Running a `?` or `help()` command in a code cell opens a side bar with a tab displaying the help documentation.\n",
        "\n",
        "-   For example, the package `dplyr` contains a data set called `storms`.\n",
        "-   Where is the data from, and what variables are in the data set?\n",
        "-   **Run the code cell below to access the help documentation for the `storms` data set.**\n",
        "    -   Resizing the tab in the side bar may help the documentation be more readable.\n",
        "    -   We can close the tab if we want to increase the size of our working window."
      ],
      "metadata": {
        "id": "7iKHN8QEi5r1"
      }
    },
    {
      "cell_type": "code",
      "execution_count": null,
      "metadata": {
        "id": "44284484-234e-4a1d-99b9-bfb3a7c8a090"
      },
      "outputs": [],
      "source": [
        "?storms"
      ]
    },
    {
      "cell_type": "code",
      "source": [
        "help(storms)"
      ],
      "metadata": {
        "id": "jMDpFFnA-H19"
      },
      "execution_count": null,
      "outputs": []
    },
    {
      "cell_type": "markdown",
      "metadata": {
        "id": "0ca0e7c6-1aca-4eb4-9e2c-f5c3021db36f"
      },
      "source": [
        "## <a name=\"q3\">Question 3</a>\n",
        "---\n",
        "\n",
        "After reading the `storms` help documentation, answer the following\n",
        "questions:\n",
        "\n",
        "a.  What is the source of the data?\n",
        "\n",
        "b.  What variables are included in the data?\n",
        "\n",
        "c.  Over what period of time and how frequently are observations recorded?\n",
        "\n"
      ]
    },
    {
      "cell_type": "markdown",
      "source": [
        "### <a name=\"01sol3\">Solutions to Question 3</a>\n",
        "---\n",
        "\n",
        "\n",
        "a. The `storms` dataset is the NOAA Atlantic hurricane database best track data, <https://www.nhc.noaa.gov/data/#hurdat>\n",
        "\n",
        "\n",
        "<br>  \n",
        "\n",
        "b. There are thirteen variables in the data set listed below.\n",
        "\n",
        "- `name` is the Storm Name.\n",
        "-  `year`, `month`, `day` and `hour` tells us when the storm observation was recorded.\n",
        "- `lat` and `long` give the latitude and longitude of the location of the storm center.\n",
        "- `status` gives the storm classification.\n",
        "- `category` is the Saffir-Simpson hurricane category calculated from wind speed.\n",
        "- `wind` is the storm's maximum sustained wind speed (in knots).\n",
        "- `pressure` is the air pressure at the storm's center (in millibars).\n",
        "- `tropicalstorm_force_diameter` is the diameter (in nautical miles) of the area experiencing tropical storm strength winds (34 knots or above).\n",
        "- `hurricane_force_diameter` is the diameter (in nautical miles) of the area experiencing hurricane strength winds (64 knots or above).\n",
        "\n",
        "\n",
        "<br>  \n",
        "\n",
        "c. The data includes the positions and attributes of storms from 1975-2022. Storms from 1979 onward are measured every six hours during the lifetime of the storm.\n",
        "\n",
        "\n",
        "<br>  \n",
        "<br>  "
      ],
      "metadata": {
        "id": "IbKbEjZQm3cu"
      }
    },
    {
      "cell_type": "markdown",
      "source": [
        "## <a name=\"01q4\">Question 4</a>\n",
        "---\n",
        "\n",
        "Insert a code cell and run the command `?hist` to see the help\n",
        "documentation for the histogram function.\n",
        "\n",
        "a.  What option can we use to add a main title to the histogram?\n",
        "\n",
        "b.  What option can we use to set the fill color for the bars of a histogram?\n",
        "\n"
      ],
      "metadata": {
        "id": "7yRLREkCi-Iv"
      }
    },
    {
      "cell_type": "code",
      "source": [
        "hist( col = \"pink\", main = \"Title of Histogram\")"
      ],
      "metadata": {
        "id": "mNTTUBY_-Snt"
      },
      "execution_count": null,
      "outputs": []
    },
    {
      "cell_type": "markdown",
      "source": [
        "### <a name=\"01sol4\">Solution to Question 4</a>\n",
        "\n",
        "---\n",
        "\n",
        "a. The `main` option.\n",
        "\n",
        "<br>  \n",
        "\n",
        "b. The `col` option.\n",
        "\n",
        "\n",
        "<br>  \n",
        "<br>  \n",
        "\n",
        "  \n",
        "\n"
      ],
      "metadata": {
        "id": "t_e9IqoMmz6T"
      }
    },
    {
      "cell_type": "markdown",
      "source": [
        "## <a name=\"CC License\">Creative Commons License Information</a>\n",
        "---\n",
        "\n",
        "![Creative Commons\n",
        "License](https://i.creativecommons.org/l/by-nc-sa/4.0/88x31.png)\n",
        "\n",
        "Materials created by the [Department of Mathematical and Statistical Sciences at the University of Colorado Denver](https://github.com/CU-Denver-MathStats-OER/)\n",
        "and is licensed under a [Creative Commons\n",
        "Attribution-NonCommercial-ShareAlike 4.0 International\n",
        "License](http://creativecommons.org/licenses/by-nc-sa/4.0/)."
      ],
      "metadata": {
        "id": "0LUMgFshjsYa"
      }
    }
  ]
}